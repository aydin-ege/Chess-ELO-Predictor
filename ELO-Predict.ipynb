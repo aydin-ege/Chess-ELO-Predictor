{
  "nbformat": 4,
  "nbformat_minor": 0,
  "metadata": {
    "colab": {
      "name": "Copy of PCA.ipynb adlı not defterinin kopyası",
      "provenance": [],
      "collapsed_sections": []
    },
    "kernelspec": {
      "name": "python3",
      "display_name": "Python 3"
    },
    "language_info": {
      "name": "python"
    },
    "accelerator": "GPU"
  },
  "cells": [
    {
      "cell_type": "code",
      "metadata": {
        "colab": {
          "base_uri": "https://localhost:8080/"
        },
        "id": "1BG-0dE23iQU",
        "outputId": "1a90a1bc-0e32-470c-ea04-14f8e9c996ca"
      },
      "source": [
        "from google.colab import drive\n",
        "drive.mount('/content/gdrive')\n",
        "dataset_path = \"gdrive/MyDrive/Root/feature_set_v5.pickle\""
      ],
      "execution_count": null,
      "outputs": [
        {
          "output_type": "stream",
          "text": [
            "Drive already mounted at /content/gdrive; to attempt to forcibly remount, call drive.mount(\"/content/gdrive\", force_remount=True).\n"
          ],
          "name": "stdout"
        }
      ]
    },
    {
      "cell_type": "code",
      "metadata": {
        "id": "sGT-G5673z6w"
      },
      "source": [
        "import pickle\n",
        "from keras.models import Sequential\n",
        "from keras.layers import Dense, Dropout, LeakyReLU\n",
        "from keras.layers.normalization import BatchNormalization\n",
        "from keras import regularizers, initializers\n",
        "from keras.callbacks import ModelCheckpoint, EarlyStopping\n",
        "import keras.backend as K\n",
        "import seaborn as sns\n",
        "import pandas as pd\n",
        "import numpy as np\n",
        "import numpy.random\n",
        "from sklearn.metrics import roc_curve\n",
        "from sklearn.metrics import roc_auc_score\n",
        "from matplotlib import pyplot\n",
        "from sklearn.model_selection import train_test_split\n",
        "from sklearn.preprocessing import StandardScaler\n",
        "from sklearn.decomposition import PCA"
      ],
      "execution_count": null,
      "outputs": []
    },
    {
      "cell_type": "code",
      "metadata": {
        "colab": {
          "base_uri": "https://localhost:8080/",
          "height": 507
        },
        "id": "n0FXoGIN34EQ",
        "outputId": "d2ecc704-dba6-43d9-e906-9999020b572d"
      },
      "source": [
        "df=[] # Import data\n",
        "with open(dataset_path, \"rb\") as f:\n",
        "    df=(pickle.load(f))\n",
        "df.head(7)"
      ],
      "execution_count": null,
      "outputs": [
        {
          "output_type": "execute_result",
          "data": {
            "text/html": [
              "<div>\n",
              "<style scoped>\n",
              "    .dataframe tbody tr th:only-of-type {\n",
              "        vertical-align: middle;\n",
              "    }\n",
              "\n",
              "    .dataframe tbody tr th {\n",
              "        vertical-align: top;\n",
              "    }\n",
              "\n",
              "    .dataframe thead th {\n",
              "        text-align: right;\n",
              "    }\n",
              "</style>\n",
              "<table border=\"1\" class=\"dataframe\">\n",
              "  <thead>\n",
              "    <tr style=\"text-align: right;\">\n",
              "      <th></th>\n",
              "      <th>AllFeatures</th>\n",
              "      <th>AvgElo</th>\n",
              "      <th>DiffElo</th>\n",
              "    </tr>\n",
              "  </thead>\n",
              "  <tbody>\n",
              "    <tr>\n",
              "      <th>0</th>\n",
              "      <td>[0.0, 1.0, 0.25862068965517243, 0.0, 0.75, 0.4...</td>\n",
              "      <td>1172.0</td>\n",
              "      <td>-20</td>\n",
              "    </tr>\n",
              "    <tr>\n",
              "      <th>1</th>\n",
              "      <td>[0.0, 1.0, 0.20689655172413793, 0.0, 0.0, 0.40...</td>\n",
              "      <td>1172.5</td>\n",
              "      <td>-1</td>\n",
              "    </tr>\n",
              "    <tr>\n",
              "      <th>2</th>\n",
              "      <td>[0.0, 1.0, 0.3333333333333333, 0.0, 1.0, 0.471...</td>\n",
              "      <td>1170.0</td>\n",
              "      <td>-38</td>\n",
              "    </tr>\n",
              "    <tr>\n",
              "      <th>3</th>\n",
              "      <td>[0.0, 1.0, 0.07692307692307693, 0.0, 0.0, 0.26...</td>\n",
              "      <td>1173.0</td>\n",
              "      <td>-44</td>\n",
              "    </tr>\n",
              "    <tr>\n",
              "      <th>4</th>\n",
              "      <td>[0.0, 1.0, 0.3157894736842105, 0.0, 1.0, 0.464...</td>\n",
              "      <td>1171.5</td>\n",
              "      <td>37</td>\n",
              "    </tr>\n",
              "    <tr>\n",
              "      <th>5</th>\n",
              "      <td>[0.0, 1.0, 0.35135135135135137, 0.0, 1.0, 0.47...</td>\n",
              "      <td>1172.0</td>\n",
              "      <td>8</td>\n",
              "    </tr>\n",
              "    <tr>\n",
              "      <th>6</th>\n",
              "      <td>[0.0, 1.0, 0.3, 0.0, 0.75, 0.45825756949558394...</td>\n",
              "      <td>1168.5</td>\n",
              "      <td>27</td>\n",
              "    </tr>\n",
              "  </tbody>\n",
              "</table>\n",
              "</div>"
            ],
            "text/plain": [
              "                                         AllFeatures  AvgElo  DiffElo\n",
              "0  [0.0, 1.0, 0.25862068965517243, 0.0, 0.75, 0.4...  1172.0      -20\n",
              "1  [0.0, 1.0, 0.20689655172413793, 0.0, 0.0, 0.40...  1172.5       -1\n",
              "2  [0.0, 1.0, 0.3333333333333333, 0.0, 1.0, 0.471...  1170.0      -38\n",
              "3  [0.0, 1.0, 0.07692307692307693, 0.0, 0.0, 0.26...  1173.0      -44\n",
              "4  [0.0, 1.0, 0.3157894736842105, 0.0, 1.0, 0.464...  1171.5       37\n",
              "5  [0.0, 1.0, 0.35135135135135137, 0.0, 1.0, 0.47...  1172.0        8\n",
              "6  [0.0, 1.0, 0.3, 0.0, 0.75, 0.45825756949558394...  1168.5       27"
            ]
          },
          "metadata": {
            "tags": []
          },
          "execution_count": 41
        }
      ]
    },
    {
      "cell_type": "code",
      "metadata": {
        "id": "b4wOnzBYqtb6"
      },
      "source": [
        "df = df[(df[\"AvgElo\"]>1400)&(df[\"AvgElo\"]<1900)]\n",
        "df = df[(abs(df[\"DiffElo\"])<100)]"
      ],
      "execution_count": null,
      "outputs": []
    },
    {
      "cell_type": "code",
      "metadata": {
        "colab": {
          "base_uri": "https://localhost:8080/",
          "height": 494
        },
        "id": "O7NvV8LCrE_D",
        "outputId": "2126a9ee-bb2e-4f9b-b1b2-523c36f3bca4"
      },
      "source": [
        "sns.displot(df[\"AvgElo\"])\n",
        "print(df[\"AvgElo\"].describe())"
      ],
      "execution_count": null,
      "outputs": [
        {
          "output_type": "stream",
          "text": [
            "count    35470.000000\n",
            "mean      1629.967212\n",
            "std        263.381036\n",
            "min       1168.500000\n",
            "25%       1403.000000\n",
            "50%       1631.500000\n",
            "75%       1858.000000\n",
            "max       2083.000000\n",
            "Name: AvgElo, dtype: float64\n"
          ],
          "name": "stdout"
        },
        {
          "output_type": "display_data",
          "data": {
            "image/png": "[encoded data removed]",
            "text/plain": [
              "<Figure size 360x360 with 1 Axes>"
            ]
          },
          "metadata": {
            "tags": [],
            "needs_background": "light"
          }
        }
      ]
    },
    {
      "cell_type": "code",
      "metadata": {
        "id": "GbZ22dIJSq05"
      },
      "source": [
        "np.arange(1300, 1900, 10)"
      ],
      "execution_count": null,
      "outputs": []
    },
    {
      "cell_type": "code",
      "metadata": {
        "id": "AKd9oIl2UUo3"
      },
      "source": [
        "df=df.sort_values(by=\"AvgElo\")\n",
        "\n"
      ],
      "execution_count": null,
      "outputs": []
    },
    {
      "cell_type": "code",
      "metadata": {
        "id": "lWGGGHM7czPv"
      },
      "source": [
        "AAA1=df[[\"AvgElo\",\"DiffElo\"]]\n"
      ],
      "execution_count": null,
      "outputs": []
    },
    {
      "cell_type": "code",
      "metadata": {
        "colab": {
          "base_uri": "https://localhost:8080/",
          "height": 164
        },
        "id": "dQo9FRPaeC52",
        "outputId": "449df059-2054-4804-b8c9-c37e9120fc9c"
      },
      "source": [
        "df.iterrows()"
      ],
      "execution_count": null,
      "outputs": [
        {
          "output_type": "error",
          "ename": "TypeError",
          "evalue": "ignored",
          "traceback": [
            "\u001b[0;31m---------------------------------------------------------------------------\u001b[0m",
            "\u001b[0;31mTypeError\u001b[0m                                 Traceback (most recent call last)",
            "\u001b[0;32m<ipython-input-88-72019da68f02>\u001b[0m in \u001b[0;36m<module>\u001b[0;34m()\u001b[0m\n\u001b[0;32m----> 1\u001b[0;31m \u001b[0mdf\u001b[0m\u001b[0;34m.\u001b[0m\u001b[0miterrows\u001b[0m\u001b[0;34m(\u001b[0m\u001b[0;34m)\u001b[0m\u001b[0;34m[\u001b[0m\u001b[0;36m1\u001b[0m\u001b[0;34m]\u001b[0m\u001b[0;34m\u001b[0m\u001b[0;34m\u001b[0m\u001b[0m\n\u001b[0m",
            "\u001b[0;31mTypeError\u001b[0m: 'generator' object is not subscriptable"
          ]
        }
      ]
    },
    {
      "cell_type": "code",
      "metadata": {
        "id": "KV-TAh2uYf_c"
      },
      "source": [
        "mino=1300.5\n",
        "maxo=1899.5\n",
        "\n",
        "leng=int(2*(maxo-mino+1))\n",
        "leng2=199\n",
        "k=np.zeros([leng,leng2])\n",
        "\n",
        "for row in df.itertuples():\n",
        "  i=row[2]\n",
        "  e=row[3]\n",
        "\n",
        "  k[2*int(i-1300.5),int(e)+99]+=1\n"
      ],
      "execution_count": null,
      "outputs": []
    },
    {
      "cell_type": "code",
      "metadata": {
        "colab": {
          "base_uri": "https://localhost:8080/"
        },
        "id": "dnhizF5sb1hD",
        "outputId": "c44d401c-2be9-4734-bac0-6235e3a09dec"
      },
      "source": [
        "k\n"
      ],
      "execution_count": null,
      "outputs": [
        {
          "output_type": "execute_result",
          "data": {
            "text/plain": [
              "array([[0., 0., 0., ..., 0., 0., 1.],\n",
              "       [0., 0., 0., ..., 0., 0., 0.],\n",
              "       [0., 0., 0., ..., 0., 0., 0.],\n",
              "       ...,\n",
              "       [0., 0., 0., ..., 0., 0., 0.],\n",
              "       [0., 0., 1., ..., 0., 0., 0.],\n",
              "       [0., 0., 0., ..., 0., 0., 0.]])"
            ]
          },
          "metadata": {
            "tags": []
          },
          "execution_count": 98
        }
      ]
    },
    {
      "cell_type": "code",
      "metadata": {
        "id": "8Wcs40KXcYCB"
      },
      "source": [
        "I=np.nonzero(k)\n",
        "kuk=np.zeros(leng)\n",
        "kuk[I]=1/k[I]"
      ],
      "execution_count": null,
      "outputs": []
    },
    {
      "cell_type": "code",
      "metadata": {
        "id": "QjMlFHFfcsV1"
      },
      "source": [
        "kuk=kuk/sum(kuk)"
      ],
      "execution_count": null,
      "outputs": []
    },
    {
      "cell_type": "code",
      "metadata": {
        "id": "FHxaPv8sc6gz"
      },
      "source": [
        "newdf=df\n"
      ],
      "execution_count": null,
      "outputs": []
    },
    {
      "cell_type": "code",
      "metadata": {
        "id": "gAx8Khs4Xoht"
      },
      "source": [
        "k = np.arange(1400, 1900, 10)\n",
        "datas = []\n",
        "for i, e in enumerate(k):\n",
        "  if i==0:\n",
        "    continue\n",
        "  datas.append(df[((df[\"AvgElo\"]>=k[i-1]) & (df[\"AvgElo\"]<e))])"
      ],
      "execution_count": null,
      "outputs": []
    },
    {
      "cell_type": "code",
      "metadata": {
        "id": "AvP2pUg0dZ8E",
        "colab": {
          "base_uri": "https://localhost:8080/"
        },
        "outputId": "087cf5d0-caae-4b51-d918-2d3b5fecc599"
      },
      "source": [
        "p=0\n",
        "Pm=9999\n",
        "for e in datas:\n",
        "  p = max(p,len(e))\n",
        "  Pm = min(Pm, len(e))\n",
        "print(Pm)\n",
        " \n",
        "  \n",
        "for i,e in enumerate(datas):\n",
        "  if len(e)>Pm:\n",
        "    datas[i] =  e.sample(Pm)\n",
        "df=pd.concat(datas)"
      ],
      "execution_count": null,
      "outputs": [
        {
          "output_type": "stream",
          "text": [
            "289\n"
          ],
          "name": "stdout"
        }
      ]
    },
    {
      "cell_type": "code",
      "metadata": {
        "colab": {
          "base_uri": "https://localhost:8080/",
          "height": 376
        },
        "id": "0Tws4esPY-xT",
        "outputId": "dabf5ca1-480a-48f4-ea23-8912e6af563e"
      },
      "source": [
        "sns.displot(df[\"AvgElo\"])"
      ],
      "execution_count": null,
      "outputs": [
        {
          "output_type": "execute_result",
          "data": {
            "text/plain": [
              "<seaborn.axisgrid.FacetGrid at 0x7ff381ce5d10>"
            ]
          },
          "metadata": {
            "tags": []
          },
          "execution_count": 24
        },
        {
          "output_type": "display_data",
          "data": {
            "image/png": "[encoded data removed]",
            "text/plain": [
              "<Figure size 360x360 with 1 Axes>"
            ]
          },
          "metadata": {
            "tags": [],
            "needs_background": "light"
          }
        }
      ]
    },
    {
      "cell_type": "code",
      "metadata": {
        "id": "8alkqy00Y98N"
      },
      "source": [
        ""
      ],
      "execution_count": null,
      "outputs": []
    },
    {
      "cell_type": "code",
      "metadata": {
        "id": "v5t3D4nOY9-n"
      },
      "source": [
        ""
      ],
      "execution_count": null,
      "outputs": []
    },
    {
      "cell_type": "code",
      "metadata": {
        "id": "TkPZP4MHdLYW"
      },
      "source": [
        "x = StandardScaler().fit_transform(np.array(df[\"AllFeatures\"].tolist()))\n",
        "pca = PCA(n_components=2)\n",
        "principalComponents = np.array(df[\"AllFeatures\"].tolist()) #pca.fit_transform(x)#"
      ],
      "execution_count": null,
      "outputs": []
    },
    {
      "cell_type": "code",
      "metadata": {
        "colab": {
          "base_uri": "https://localhost:8080/",
          "height": 301
        },
        "id": "1P79s5onRlIg",
        "outputId": "d58542d6-b06e-4490-f227-6bdac371576b"
      },
      "source": [
        "sns.scatterplot(principalComponents[:,0], principalComponents[:,1], hue=df[\"AvgElo\"])"
      ],
      "execution_count": null,
      "outputs": [
        {
          "output_type": "stream",
          "text": [
            "/usr/local/lib/python3.7/dist-packages/seaborn/_decorators.py:43: FutureWarning: Pass the following variables as keyword args: x, y. From version 0.12, the only valid positional argument will be `data`, and passing other arguments without an explicit keyword will result in an error or misinterpretation.\n",
            "  FutureWarning\n"
          ],
          "name": "stderr"
        },
        {
          "output_type": "execute_result",
          "data": {
            "text/plain": [
              "<matplotlib.axes._subplots.AxesSubplot at 0x7f02c0ed0d10>"
            ]
          },
          "metadata": {
            "tags": []
          },
          "execution_count": 55
        },
        {
          "output_type": "display_data",
          "data": {
            "image/png": "[encoded data removed]",
            "text/plain": [
              "<Figure size 432x288 with 1 Axes>"
            ]
          },
          "metadata": {
            "tags": [],
            "needs_background": "light"
          }
        }
      ]
    },
    {
      "cell_type": "code",
      "metadata": {
        "id": "ODTEaLYagMi7"
      },
      "source": [
        "outputs = np.asarray(df[\"AvgElo\"])\n",
        "outputs = np.append(outputs[np.newaxis].transpose(), np.asarray(df[\"DiffElo\"])[np.newaxis].transpose(), axis=1)\n",
        "dataset = np.concatenate([principalComponents, outputs], axis=1)"
      ],
      "execution_count": null,
      "outputs": []
    },
    {
      "cell_type": "code",
      "metadata": {
        "colab": {
          "base_uri": "https://localhost:8080/"
        },
        "id": "iziHyUhAgulH",
        "outputId": "558f4175-88f7-45d0-8994-a26f37f2a105"
      },
      "source": [
        "print(principalComponents.shape, dataset.shape)"
      ],
      "execution_count": null,
      "outputs": [
        {
          "output_type": "stream",
          "text": [
            "(35470, 2845) (35470, 2847)\n"
          ],
          "name": "stdout"
        }
      ]
    },
    {
      "cell_type": "code",
      "metadata": {
        "id": "t3aFkeWKgua1"
      },
      "source": [
        "np.random.shuffle(dataset)\n",
        "train = dataset[:len(dataset)//285*256]\n",
        "test = dataset[len(dataset)//285*256:]\n",
        "trainX = train[:,:len(principalComponents[0])]\n",
        "trainY = train[:,len(principalComponents[0]):]\n",
        "testX = test[:,:len(principalComponents[0])]\n",
        "testY = test[:,len(principalComponents[0]):]"
      ],
      "execution_count": null,
      "outputs": []
    },
    {
      "cell_type": "code",
      "metadata": {
        "id": "OIVvakiHlCoQ"
      },
      "source": [
        "models=[]"
      ],
      "execution_count": null,
      "outputs": []
    },
    {
      "cell_type": "code",
      "metadata": {
        "colab": {
          "base_uri": "https://localhost:8080/"
        },
        "id": "zseH1N_drQ1S",
        "outputId": "2eac2bc3-5566-4776-d15d-9987c1699c24"
      },
      "source": [
        "checkpoint_name = 'gdrive/MyDrive/Root/ckpt.hdf5' \n",
        "checkpoint = ModelCheckpoint(checkpoint_name, monitor='val_MAE', verbose = 1, save_best_only = True, mode ='auto')\n",
        "stop = EarlyStopping(monitor='val_MAE', patience=30)\n",
        "callbacks_list = [checkpoint, stop]\n",
        "initializer = initializers.GlorotUniform()\n",
        "model = Sequential()\n",
        "model.add(BatchNormalization())\n",
        "model.add(Dense(int(2*(len(trainX[0])**2)**(1/3)), input_dim=len(trainX[0]), kernel_regularizer=regularizers.l2(0.002), kernel_initializer=initializer))\n",
        "model.add(LeakyReLU(alpha=0.1))\n",
        "model.add(BatchNormalization())\n",
        "model.add(Dropout(0.5))\n",
        "model.add(Dense(int(2*(len(trainX[0]))**(1/3)), activation='linear', kernel_initializer=initializer))\n",
        "model.add(Dense(2))\n",
        "model.compile(loss=\"mean_squared_error\", optimizer='adam', metrics=['MAE'])\n",
        "model.fit(trainX, trainY, epochs=1000, batch_size=1024, validation_split=0.1, callbacks=callbacks_list)\n",
        "model.load_weights(checkpoint_name)\n",
        "models.append(model)"
      ],
      "execution_count": null,
      "outputs": [
        {
          "output_type": "stream",
          "text": [
            "Epoch 1/1000\n",
            "28/28 [==============================] - 1s 20ms/step - loss: 1358685.3664 - MAE: 826.3548 - val_loss: 1560037.8750 - val_MAE: 887.7173\n",
            "\n",
            "Epoch 00001: val_MAE improved from inf to 887.71735, saving model to gdrive/MyDrive/Root/ckpt.hdf5\n",
            "Epoch 2/1000\n",
            "28/28 [==============================] - 0s 13ms/step - loss: 1338776.2931 - MAE: 822.8168 - val_loss: 1296259.6250 - val_MAE: 805.5917\n",
            "\n",
            "Epoch 00002: val_MAE improved from 887.71735 to 805.59174, saving model to gdrive/MyDrive/Root/ckpt.hdf5\n",
            "Epoch 3/1000\n",
            "28/28 [==============================] - 0s 13ms/step - loss: 1315212.4397 - MAE: 816.4913 - val_loss: 1065866.2500 - val_MAE: 729.4282\n",
            "\n",
            "Epoch 00003: val_MAE improved from 805.59174 to 729.42816, saving model to gdrive/MyDrive/Root/ckpt.hdf5\n",
            "Epoch 4/1000\n",
            "28/28 [==============================] - 0s 13ms/step - loss: 1260259.9267 - MAE: 799.5542 - val_loss: 963043.3750 - val_MAE: 695.7471\n",
            "\n",
            "Epoch 00004: val_MAE improved from 729.42816 to 695.74707, saving model to gdrive/MyDrive/Root/ckpt.hdf5\n",
            "Epoch 5/1000\n",
            "28/28 [==============================] - 0s 13ms/step - loss: 1160898.1810 - MAE: 767.4511 - val_loss: 879505.8750 - val_MAE: 665.7358\n",
            "\n",
            "Epoch 00005: val_MAE improved from 695.74707 to 665.73584, saving model to gdrive/MyDrive/Root/ckpt.hdf5\n",
            "Epoch 6/1000\n",
            "28/28 [==============================] - 0s 12ms/step - loss: 998427.3858 - MAE: 711.3754 - val_loss: 753101.8750 - val_MAE: 616.2961\n",
            "\n",
            "Epoch 00006: val_MAE improved from 665.73584 to 616.29614, saving model to gdrive/MyDrive/Root/ckpt.hdf5\n",
            "Epoch 7/1000\n",
            "28/28 [==============================] - 0s 13ms/step - loss: 780543.8987 - MAE: 628.1609 - val_loss: 537813.2500 - val_MAE: 520.1204\n",
            "\n",
            "Epoch 00007: val_MAE improved from 616.29614 to 520.12042, saving model to gdrive/MyDrive/Root/ckpt.hdf5\n",
            "Epoch 8/1000\n",
            "28/28 [==============================] - 0s 12ms/step - loss: 544472.7241 - MAE: 522.2150 - val_loss: 332489.9688 - val_MAE: 406.6512\n",
            "\n",
            "Epoch 00008: val_MAE improved from 520.12042 to 406.65115, saving model to gdrive/MyDrive/Root/ckpt.hdf5\n",
            "Epoch 9/1000\n",
            "28/28 [==============================] - 0s 13ms/step - loss: 322859.6595 - MAE: 396.7810 - val_loss: 163119.3125 - val_MAE: 279.3243\n",
            "\n",
            "Epoch 00009: val_MAE improved from 406.65115 to 279.32428, saving model to gdrive/MyDrive/Root/ckpt.hdf5\n",
            "Epoch 10/1000\n",
            "28/28 [==============================] - 0s 12ms/step - loss: 158798.8912 - MAE: 267.8749 - val_loss: 69330.6016 - val_MAE: 172.1033\n",
            "\n",
            "Epoch 00010: val_MAE improved from 279.32428 to 172.10330, saving model to gdrive/MyDrive/Root/ckpt.hdf5\n",
            "Epoch 11/1000\n",
            "28/28 [==============================] - 0s 13ms/step - loss: 72279.7196 - MAE: 169.9450 - val_loss: 31293.5273 - val_MAE: 110.2876\n",
            "\n",
            "Epoch 00011: val_MAE improved from 172.10330 to 110.28758, saving model to gdrive/MyDrive/Root/ckpt.hdf5\n",
            "Epoch 12/1000\n",
            "28/28 [==============================] - 0s 13ms/step - loss: 41943.0752 - MAE: 125.9419 - val_loss: 21447.3633 - val_MAE: 92.8341\n",
            "\n",
            "Epoch 00012: val_MAE improved from 110.28758 to 92.83408, saving model to gdrive/MyDrive/Root/ckpt.hdf5\n",
            "Epoch 13/1000\n",
            "28/28 [==============================] - 0s 12ms/step - loss: 34223.1791 - MAE: 114.1517 - val_loss: 19961.2871 - val_MAE: 91.0834\n",
            "\n",
            "Epoch 00013: val_MAE improved from 92.83408 to 91.08341, saving model to gdrive/MyDrive/Root/ckpt.hdf5\n",
            "Epoch 14/1000\n",
            "28/28 [==============================] - 0s 12ms/step - loss: 33297.9339 - MAE: 112.5297 - val_loss: 19565.6836 - val_MAE: 89.9605\n",
            "\n",
            "Epoch 00014: val_MAE improved from 91.08341 to 89.96052, saving model to gdrive/MyDrive/Root/ckpt.hdf5\n",
            "Epoch 15/1000\n",
            "28/28 [==============================] - 0s 13ms/step - loss: 31683.9756 - MAE: 110.4441 - val_loss: 19067.4551 - val_MAE: 89.4553\n",
            "\n",
            "Epoch 00015: val_MAE improved from 89.96052 to 89.45534, saving model to gdrive/MyDrive/Root/ckpt.hdf5\n",
            "Epoch 16/1000\n",
            "28/28 [==============================] - 0s 13ms/step - loss: 31336.3656 - MAE: 109.9600 - val_loss: 19334.3008 - val_MAE: 89.9045\n",
            "\n",
            "Epoch 00016: val_MAE did not improve from 89.45534\n",
            "Epoch 17/1000\n",
            "28/28 [==============================] - 0s 12ms/step - loss: 30659.2188 - MAE: 108.3847 - val_loss: 19190.1914 - val_MAE: 89.7719\n",
            "\n",
            "Epoch 00017: val_MAE did not improve from 89.45534\n",
            "Epoch 18/1000\n",
            "28/28 [==============================] - 0s 11ms/step - loss: 29733.7344 - MAE: 107.3292 - val_loss: 18689.3223 - val_MAE: 88.3033\n",
            "\n",
            "Epoch 00018: val_MAE improved from 89.45534 to 88.30334, saving model to gdrive/MyDrive/Root/ckpt.hdf5\n",
            "Epoch 19/1000\n",
            "28/28 [==============================] - 0s 12ms/step - loss: 29689.4846 - MAE: 107.2417 - val_loss: 18388.5469 - val_MAE: 88.0999\n",
            "\n",
            "Epoch 00019: val_MAE improved from 88.30334 to 88.09994, saving model to gdrive/MyDrive/Root/ckpt.hdf5\n",
            "Epoch 20/1000\n",
            "28/28 [==============================] - 0s 13ms/step - loss: 28823.5868 - MAE: 106.0420 - val_loss: 19976.1973 - val_MAE: 91.2593\n",
            "\n",
            "Epoch 00020: val_MAE did not improve from 88.09994\n",
            "Epoch 21/1000\n",
            "28/28 [==============================] - 0s 12ms/step - loss: 27639.3593 - MAE: 104.5162 - val_loss: 19033.0859 - val_MAE: 89.7180\n",
            "\n",
            "Epoch 00021: val_MAE did not improve from 88.09994\n",
            "Epoch 22/1000\n",
            "28/28 [==============================] - 0s 12ms/step - loss: 27827.3654 - MAE: 104.4672 - val_loss: 18584.3672 - val_MAE: 88.3629\n",
            "\n",
            "Epoch 00022: val_MAE did not improve from 88.09994\n",
            "Epoch 23/1000\n",
            "28/28 [==============================] - 0s 12ms/step - loss: 27737.5232 - MAE: 104.2244 - val_loss: 18863.7715 - val_MAE: 88.6199\n",
            "\n",
            "Epoch 00023: val_MAE did not improve from 88.09994\n",
            "Epoch 24/1000\n",
            "28/28 [==============================] - 0s 12ms/step - loss: 26807.6208 - MAE: 102.7111 - val_loss: 18579.3457 - val_MAE: 88.1731\n",
            "\n",
            "Epoch 00024: val_MAE did not improve from 88.09994\n",
            "Epoch 25/1000\n",
            "28/28 [==============================] - 0s 13ms/step - loss: 26502.6833 - MAE: 102.0866 - val_loss: 18827.0254 - val_MAE: 89.0674\n",
            "\n",
            "Epoch 00025: val_MAE did not improve from 88.09994\n",
            "Epoch 26/1000\n",
            "28/28 [==============================] - 0s 12ms/step - loss: 25630.3807 - MAE: 100.8338 - val_loss: 18487.0996 - val_MAE: 88.1866\n",
            "\n",
            "Epoch 00026: val_MAE did not improve from 88.09994\n",
            "Epoch 27/1000\n",
            "28/28 [==============================] - 0s 12ms/step - loss: 25151.0440 - MAE: 99.8948 - val_loss: 18322.4023 - val_MAE: 87.7761\n",
            "\n",
            "Epoch 00027: val_MAE improved from 88.09994 to 87.77610, saving model to gdrive/MyDrive/Root/ckpt.hdf5\n",
            "Epoch 28/1000\n",
            "28/28 [==============================] - 0s 12ms/step - loss: 24419.8134 - MAE: 98.6665 - val_loss: 18512.8691 - val_MAE: 88.0816\n",
            "\n",
            "Epoch 00028: val_MAE did not improve from 87.77610\n",
            "Epoch 29/1000\n",
            "28/28 [==============================] - 0s 12ms/step - loss: 24693.6067 - MAE: 99.1067 - val_loss: 18421.7500 - val_MAE: 87.3931\n",
            "\n",
            "Epoch 00029: val_MAE improved from 87.77610 to 87.39305, saving model to gdrive/MyDrive/Root/ckpt.hdf5\n",
            "Epoch 30/1000\n",
            "28/28 [==============================] - 0s 13ms/step - loss: 24427.5403 - MAE: 98.8427 - val_loss: 18763.9082 - val_MAE: 88.6553\n",
            "\n",
            "Epoch 00030: val_MAE did not improve from 87.39305\n",
            "Epoch 31/1000\n",
            "28/28 [==============================] - 0s 12ms/step - loss: 24096.0755 - MAE: 98.2442 - val_loss: 18696.2246 - val_MAE: 88.7676\n",
            "\n",
            "Epoch 00031: val_MAE did not improve from 87.39305\n",
            "Epoch 32/1000\n",
            "28/28 [==============================] - 0s 12ms/step - loss: 23588.3153 - MAE: 97.4880 - val_loss: 18472.2227 - val_MAE: 87.8361\n",
            "\n",
            "Epoch 00032: val_MAE did not improve from 87.39305\n",
            "Epoch 33/1000\n",
            "28/28 [==============================] - 0s 12ms/step - loss: 22771.7380 - MAE: 95.5701 - val_loss: 18805.5781 - val_MAE: 89.0306\n",
            "\n",
            "Epoch 00033: val_MAE did not improve from 87.39305\n",
            "Epoch 34/1000\n",
            "28/28 [==============================] - 0s 12ms/step - loss: 22492.4441 - MAE: 94.9050 - val_loss: 18470.6465 - val_MAE: 87.9972\n",
            "\n",
            "Epoch 00034: val_MAE did not improve from 87.39305\n",
            "Epoch 35/1000\n",
            "28/28 [==============================] - 0s 12ms/step - loss: 21954.4100 - MAE: 94.5950 - val_loss: 18423.5527 - val_MAE: 88.3244\n",
            "\n",
            "Epoch 00035: val_MAE did not improve from 87.39305\n",
            "Epoch 36/1000\n",
            "28/28 [==============================] - 0s 13ms/step - loss: 21873.3988 - MAE: 93.9566 - val_loss: 18430.7480 - val_MAE: 87.6866\n",
            "\n",
            "Epoch 00036: val_MAE did not improve from 87.39305\n",
            "Epoch 37/1000\n",
            "28/28 [==============================] - 0s 12ms/step - loss: 21336.6183 - MAE: 93.1240 - val_loss: 18576.7227 - val_MAE: 88.3892\n",
            "\n",
            "Epoch 00037: val_MAE did not improve from 87.39305\n",
            "Epoch 38/1000\n",
            "28/28 [==============================] - 0s 12ms/step - loss: 20972.5717 - MAE: 92.2627 - val_loss: 18449.5273 - val_MAE: 88.3742\n",
            "\n",
            "Epoch 00038: val_MAE did not improve from 87.39305\n",
            "Epoch 39/1000\n",
            "28/28 [==============================] - 0s 12ms/step - loss: 20263.4549 - MAE: 91.0607 - val_loss: 18307.8340 - val_MAE: 88.2273\n",
            "\n",
            "Epoch 00039: val_MAE did not improve from 87.39305\n",
            "Epoch 40/1000\n",
            "28/28 [==============================] - 0s 12ms/step - loss: 20074.3110 - MAE: 90.8814 - val_loss: 18711.8340 - val_MAE: 88.8952\n",
            "\n",
            "Epoch 00040: val_MAE did not improve from 87.39305\n",
            "Epoch 41/1000\n",
            "28/28 [==============================] - 0s 12ms/step - loss: 19819.4937 - MAE: 90.3920 - val_loss: 18352.2227 - val_MAE: 88.1574\n",
            "\n",
            "Epoch 00041: val_MAE did not improve from 87.39305\n",
            "Epoch 42/1000\n",
            "28/28 [==============================] - 0s 12ms/step - loss: 19463.4998 - MAE: 89.6812 - val_loss: 18350.2832 - val_MAE: 88.2846\n",
            "\n",
            "Epoch 00042: val_MAE did not improve from 87.39305\n",
            "Epoch 43/1000\n",
            "28/28 [==============================] - 0s 12ms/step - loss: 18957.2288 - MAE: 88.5856 - val_loss: 18200.3809 - val_MAE: 87.8277\n",
            "\n",
            "Epoch 00043: val_MAE did not improve from 87.39305\n",
            "Epoch 44/1000\n",
            "28/28 [==============================] - 0s 12ms/step - loss: 19070.3489 - MAE: 88.7347 - val_loss: 18225.5938 - val_MAE: 87.7427\n",
            "\n",
            "Epoch 00044: val_MAE did not improve from 87.39305\n",
            "Epoch 45/1000\n",
            "28/28 [==============================] - 0s 12ms/step - loss: 18760.3536 - MAE: 88.1769 - val_loss: 18425.5234 - val_MAE: 87.7509\n",
            "\n",
            "Epoch 00045: val_MAE did not improve from 87.39305\n",
            "Epoch 46/1000\n",
            "28/28 [==============================] - 0s 12ms/step - loss: 18135.9104 - MAE: 86.8793 - val_loss: 18441.4199 - val_MAE: 88.2585\n",
            "\n",
            "Epoch 00046: val_MAE did not improve from 87.39305\n",
            "Epoch 47/1000\n",
            "28/28 [==============================] - 0s 12ms/step - loss: 17995.8173 - MAE: 86.5217 - val_loss: 18268.6621 - val_MAE: 88.1083\n",
            "\n",
            "Epoch 00047: val_MAE did not improve from 87.39305\n",
            "Epoch 48/1000\n",
            "28/28 [==============================] - 0s 11ms/step - loss: 17383.9534 - MAE: 85.5566 - val_loss: 18277.9219 - val_MAE: 88.1696\n",
            "\n",
            "Epoch 00048: val_MAE did not improve from 87.39305\n",
            "Epoch 49/1000\n",
            "28/28 [==============================] - 0s 12ms/step - loss: 17063.7662 - MAE: 85.0667 - val_loss: 18458.7676 - val_MAE: 88.7002\n",
            "\n",
            "Epoch 00049: val_MAE did not improve from 87.39305\n",
            "Epoch 50/1000\n",
            "28/28 [==============================] - 0s 12ms/step - loss: 17326.3767 - MAE: 84.9992 - val_loss: 18414.0391 - val_MAE: 88.2599\n",
            "\n",
            "Epoch 00050: val_MAE did not improve from 87.39305\n",
            "Epoch 51/1000\n",
            "28/28 [==============================] - 0s 11ms/step - loss: 17220.5686 - MAE: 85.0149 - val_loss: 18315.5117 - val_MAE: 88.0846\n",
            "\n",
            "Epoch 00051: val_MAE did not improve from 87.39305\n",
            "Epoch 52/1000\n",
            "28/28 [==============================] - 0s 12ms/step - loss: 16567.5742 - MAE: 83.6843 - val_loss: 18585.4883 - val_MAE: 88.9226\n",
            "\n",
            "Epoch 00052: val_MAE did not improve from 87.39305\n",
            "Epoch 53/1000\n",
            "28/28 [==============================] - 0s 13ms/step - loss: 16372.6385 - MAE: 83.1696 - val_loss: 18648.1602 - val_MAE: 88.9653\n",
            "\n",
            "Epoch 00053: val_MAE did not improve from 87.39305\n",
            "Epoch 54/1000\n",
            "28/28 [==============================] - 0s 13ms/step - loss: 15990.1180 - MAE: 82.1325 - val_loss: 18419.0156 - val_MAE: 88.0170\n",
            "\n",
            "Epoch 00054: val_MAE did not improve from 87.39305\n",
            "Epoch 55/1000\n",
            "28/28 [==============================] - 0s 12ms/step - loss: 15745.1504 - MAE: 81.7700 - val_loss: 18627.5859 - val_MAE: 88.2940\n",
            "\n",
            "Epoch 00055: val_MAE did not improve from 87.39305\n",
            "Epoch 56/1000\n",
            "28/28 [==============================] - 0s 13ms/step - loss: 15785.8275 - MAE: 82.1706 - val_loss: 18650.4219 - val_MAE: 88.3499\n",
            "\n",
            "Epoch 00056: val_MAE did not improve from 87.39305\n",
            "Epoch 57/1000\n",
            "28/28 [==============================] - 0s 12ms/step - loss: 15324.2969 - MAE: 80.9674 - val_loss: 18488.8906 - val_MAE: 88.1596\n",
            "\n",
            "Epoch 00057: val_MAE did not improve from 87.39305\n",
            "Epoch 58/1000\n",
            "28/28 [==============================] - 0s 12ms/step - loss: 15236.0111 - MAE: 80.4997 - val_loss: 18671.7695 - val_MAE: 88.8811\n",
            "\n",
            "Epoch 00058: val_MAE did not improve from 87.39305\n",
            "Epoch 59/1000\n",
            "28/28 [==============================] - 0s 12ms/step - loss: 14732.9432 - MAE: 79.6824 - val_loss: 18817.2168 - val_MAE: 88.8355\n",
            "\n",
            "Epoch 00059: val_MAE did not improve from 87.39305\n"
          ],
          "name": "stdout"
        }
      ]
    },
    {
      "cell_type": "code",
      "metadata": {
        "id": "Q_lIq-rMetXg"
      },
      "source": [
        "for q in [0.1, 0.2, 0.3, 0.7, 0.8, 0.9]:\n",
        "  def tilted_loss(y,f):\n",
        "    e = (y-f)\n",
        "    return K.mean(K.maximum(q*e, (q-1)*e), axis=-1)\n",
        "  checkpoint_name = 'gdrive/MyDrive/Root/ckpt.hdf5' \n",
        "  checkpoint = ModelCheckpoint(checkpoint_name, monitor='val_loss', verbose = 1, save_best_only = True, mode ='auto')\n",
        "  stop = EarlyStopping(monitor='val_loss', patience=10)\n",
        "  callbacks_list = [checkpoint, stop]\n",
        "  initializer = initializers.GlorotUniform()\n",
        "  model = Sequential()\n",
        "  model.add(BatchNormalization())\n",
        "  model.add(Dense(int(2*(len(trainX[0])**2)**(1/3)), input_dim=len(trainX[0]), kernel_regularizer=regularizers.l2(0.001), kernel_initializer=initializer))\n",
        "  model.add(LeakyReLU(alpha=0.3))\n",
        "  model.add(BatchNormalization())\n",
        "  model.add(Dropout(0.5))\n",
        "  model.add(Dense(int(2*(len(trainX[0]))**(1/3)), activation='linear', kernel_initializer=initializer))\n",
        "  model.add(Dense(2))\n",
        "  model.compile(loss=tilted_loss, optimizer='adam', metrics=['MAE'])\n",
        "  model.fit(trainX, trainY, epochs=1000, batch_size=1024, validation_split=0.1, callbacks=callbacks_list)\n",
        "  model.load_weights(checkpoint_name)\n",
        "  models.append(model)"
      ],
      "execution_count": null,
      "outputs": []
    },
    {
      "cell_type": "code",
      "metadata": {
        "id": "frSvd-Ihf_Fb"
      },
      "source": [
        "\n"
      ],
      "execution_count": null,
      "outputs": []
    },
    {
      "cell_type": "code",
      "metadata": {
        "id": "hASHW-FqmF3g"
      },
      "source": [
        ""
      ],
      "execution_count": null,
      "outputs": []
    },
    {
      "cell_type": "code",
      "metadata": {
        "id": "KlrEu9ArhMYO"
      },
      "source": [
        "model_pred = model.predict(testX)\n",
        "elo_pred = np.array([model_pred[:,0] + model_pred[:,1] / 2, model_pred[:,0] - model_pred[:,1] / 2])\n",
        "elo_real = np.array([testY[:,0] + testY[:,1] / 2, testY[:,0] - testY[:,1] / 2])"
      ],
      "execution_count": null,
      "outputs": []
    },
    {
      "cell_type": "code",
      "metadata": {
        "colab": {
          "base_uri": "https://localhost:8080/"
        },
        "id": "q1BJIPW1hpVM",
        "outputId": "1e9904c8-89e3-4608-c7f0-4873ead0dd19"
      },
      "source": [
        "real = elo_real[0, :]<df[\"AvgElo\"].mean()\n",
        "pred = elo_pred[0, :]<df[\"AvgElo\"].mean()\n",
        "Confusion = [sum((real) & (pred)), sum((real) & (~pred)), sum((~real) & (pred)), sum((~real) & (~pred))] \n",
        "print(Confusion, (Confusion[0]+Confusion[3])/sum(Confusion))"
      ],
      "execution_count": null,
      "outputs": [
        {
          "output_type": "stream",
          "text": [
            "[1499, 319, 393, 1515] 0.8089103596349974\n"
          ],
          "name": "stdout"
        }
      ]
    },
    {
      "cell_type": "code",
      "metadata": {
        "colab": {
          "base_uri": "https://localhost:8080/"
        },
        "id": "TcXSfrnUht6V",
        "outputId": "55554062-b0cb-477d-f618-c30f644954ba"
      },
      "source": [
        "models\n"
      ],
      "execution_count": null,
      "outputs": [
        {
          "output_type": "execute_result",
          "data": {
            "text/plain": [
              "[<tensorflow.python.keras.engine.sequential.Sequential at 0x7fa588e27710>]"
            ]
          },
          "metadata": {
            "tags": []
          },
          "execution_count": 164
        }
      ]
    },
    {
      "cell_type": "code",
      "metadata": {
        "id": "7NPw-fTk-tuP"
      },
      "source": [
        "models = models[:1]"
      ],
      "execution_count": null,
      "outputs": []
    },
    {
      "cell_type": "code",
      "metadata": {
        "id": "qyp0xEHXQ4h7"
      },
      "source": [
        ""
      ],
      "execution_count": null,
      "outputs": []
    },
    {
      "cell_type": "markdown",
      "metadata": {
        "id": "VYRFMWgrMlWL"
      },
      "source": [
        "## Multi Model Predictions"
      ]
    },
    {
      "cell_type": "code",
      "metadata": {
        "id": "QJVrPz9B_KjS"
      },
      "source": [
        "elo_real = np.array([testY[:,0] + testY[:,1] / 2, testY[:,0] - testY[:,1] / 2])\n",
        " \n",
        "cutoff = 0\n",
        "model_pred_mean = model.predict(testX)\n",
        "#model_pred_max = models[-cutoff-1].predict(testX)\n",
        "#model_pred_min = models[cutoff+1].predict(testX)\n",
        " \n",
        "#elo_max = np.array([model_pred_max[:,0] + model_pred_max[:,1] / 2, model_pred_max[:,0] - model_pred_min[:,1] / 2])\n",
        "#elo_min = np.array([model_pred_min[:,0] + model_pred_min[:,1] / 2, model_pred_min[:,0] - model_pred_max[:,1] / 2])\n",
        " \n",
        "elo_pred_mean = np.array([model_pred_mean[:,0] + model_pred_mean[:,1] / 2, model_pred_mean[:,0] - model_pred_mean[:,1] / 2])\n",
        " \n",
        "#elo_uncertainty = (elo_max-elo_min)[0, :]\n",
        "#elo_uncertainty = (model_pred_max[:, 0] - model_pred_min[:, 0]) + (model_pred_max[:, 1] - model_pred_min[:, 1])/2\n",
        "#elo_uncertainty_black = (model_pred_max[:, 0] - model_pred_min[:, 0]) - (model_pred_min[:, 1] - model_pred_max[:, 1])/2print(elo_uncertainty)"
      ],
      "execution_count": null,
      "outputs": []
    },
    {
      "cell_type": "code",
      "metadata": {
        "id": "asZpimO6ol9i"
      },
      "source": [
        "conf = [x in np.random.choice(elo_real[0,:], 10) for x in elo_real[0, :]]"
      ],
      "execution_count": null,
      "outputs": []
    },
    {
      "cell_type": "code",
      "metadata": {
        "colab": {
          "base_uri": "https://localhost:8080/"
        },
        "id": "b98BQe0ww00u",
        "outputId": "23ecbe5d-bc64-40c6-fffb-5b9a19182cd4"
      },
      "source": [
        "testY[:, 0]"
      ],
      "execution_count": null,
      "outputs": [
        {
          "output_type": "execute_result",
          "data": {
            "text/plain": [
              "array([1869.5, 1643. , 1813.5, ..., 1513.5, 1472.5, 1728.5])"
            ]
          },
          "metadata": {
            "tags": []
          },
          "execution_count": 167
        }
      ]
    },
    {
      "cell_type": "code",
      "metadata": {
        "colab": {
          "base_uri": "https://localhost:8080/"
        },
        "id": "zL3siARa3HIO",
        "outputId": "9f8050ae-dc17-41a6-ac49-7ae24cdd1d1a"
      },
      "source": [
        "from xgboost import XGBRegressor\n",
        "xgb = XGBRegressor(max_depth=4, n_estimators=250, learning_rate=0.05, verbose=2)\n",
        "xgb.fit(trainX, trainY[:,0])\n",
        "xp = xgb.predict(testX)"
      ],
      "execution_count": null,
      "outputs": [
        {
          "output_type": "stream",
          "text": [
            "/usr/local/lib/python3.7/dist-packages/xgboost/core.py:613: UserWarning: Use subset (sliced data) of np.ndarray is not recommended because it will generate extra copies and increase memory consumption\n",
            "  warnings.warn(\"Use subset (sliced data) of np.ndarray is not recommended \" +\n"
          ],
          "name": "stderr"
        },
        {
          "output_type": "stream",
          "text": [
            "[16:58:17] WARNING: /workspace/src/objective/regression_obj.cu:152: reg:linear is now deprecated in favor of reg:squarederror.\n"
          ],
          "name": "stdout"
        }
      ]
    },
    {
      "cell_type": "code",
      "metadata": {
        "colab": {
          "base_uri": "https://localhost:8080/",
          "height": 241
        },
        "id": "K0XS_wn7n08N",
        "outputId": "17f36766-8b13-480c-fe62-75f11afbdf3a"
      },
      "source": [
        "pyplot.scatter(testY[:, 0], model_pred_mean[:,0], s=0.15)\n",
        "pyplot.ylim(1000,2200)\n",
        "pyplot.xlim(1000,2200)"
      ],
      "execution_count": null,
      "outputs": [
        {
          "output_type": "execute_result",
          "data": {
            "text/plain": [
              "(1000.0, 2200.0)"
            ]
          },
          "metadata": {
            "tags": []
          },
          "execution_count": 53
        },
        {
          "output_type": "display_data",
          "data": {
            "image/png": "[encoded data removed]",
            "text/plain": [
              "<Figure size 432x288 with 1 Axes>"
            ]
          },
          "metadata": {
            "tags": [],
            "needs_background": "light"
          }
        }
      ]
    },
    {
      "cell_type": "code",
      "metadata": {
        "colab": {
          "base_uri": "https://localhost:8080/",
          "height": 520
        },
        "id": "o0_O-SDuMkav",
        "outputId": "18d74296-c8a9-40c2-ebc6-0e03e0e3efb8"
      },
      "source": [
        "\n",
        "sns.displot(elo_uncertainty)\n",
        "print(pd.DataFrame(elo_uncertainty).describe())"
      ],
      "execution_count": null,
      "outputs": [
        {
          "output_type": "stream",
          "text": [
            "                 0\n",
            "count  7257.000000\n",
            "mean    719.595947\n",
            "std      92.237885\n",
            "min     407.719360\n",
            "25%     658.097412\n",
            "50%     712.581909\n",
            "75%     771.067871\n",
            "max    1446.694824\n"
          ],
          "name": "stdout"
        },
        {
          "output_type": "display_data",
          "data": {
            "image/png": "[encoded data removed]",
            "text/plain": [
              "<Figure size 360x360 with 1 Axes>"
            ]
          },
          "metadata": {
            "tags": [],
            "needs_background": "light"
          }
        }
      ]
    },
    {
      "cell_type": "code",
      "metadata": {
        "colab": {
          "base_uri": "https://localhost:8080/"
        },
        "id": "iVHpZTR4jRcI",
        "outputId": "16186487-6fd9-46d0-af10-1ed8102ea2a8"
      },
      "source": [
        "interval = np.array([elo_pred_mean-elo_uncertainty/2, elo_pred_mean+elo_uncertainty/2])\n",
        "np.sum((interval[0,:]<=elo_real) & (interval[1,:]>=elo_real), axis=1)/elo_real.shape[1]"
      ],
      "execution_count": null,
      "outputs": [
        {
          "output_type": "execute_result",
          "data": {
            "text/plain": [
              "array([0.91732121, 0.91291167])"
            ]
          },
          "metadata": {
            "tags": []
          },
          "execution_count": 98
        }
      ]
    },
    {
      "cell_type": "code",
      "metadata": {
        "colab": {
          "base_uri": "https://localhost:8080/"
        },
        "id": "1OZaRn7jlI-5",
        "outputId": "02240adf-b105-42f0-d0e7-00d99b345ab2"
      },
      "source": [
        "np.sum((elo_min < elo_real)&(elo_real < elo_max), axis=1)/len(testY)"
      ],
      "execution_count": null,
      "outputs": [
        {
          "output_type": "execute_result",
          "data": {
            "text/plain": [
              "array([0.91277387, 0.91139589])"
            ]
          },
          "metadata": {
            "tags": []
          },
          "execution_count": 93
        }
      ]
    },
    {
      "cell_type": "code",
      "metadata": {
        "id": "6CgobFn5mrAe"
      },
      "source": [
        ""
      ],
      "execution_count": null,
      "outputs": []
    },
    {
      "cell_type": "code",
      "metadata": {
        "colab": {
          "base_uri": "https://localhost:8080/",
          "height": 490
        },
        "id": "_n3bfViw85A0",
        "outputId": "13517d10-d41e-4cd1-cdb3-558d626539cf"
      },
      "source": [
        "conf = elo_real>0\n",
        " \n",
        "real_conf = testY\n",
        "pred_conf =model_pred_mean\n",
        " \n",
        "print(np.sum(conf), sum(abs(real_conf - pred_conf)< 100)/sum(conf))\n",
        "#interval = np.array([elo_pred_mean[0,:][conf]-elo_uncertainty[conf]/2, elo_pred_mean[0,:][conf]+elo_uncertainty[conf]/2])\n",
        "#print(np.sum(conf), np.sum((interval[0,:]<=elo_real[0,:][conf]) & (interval[1,:]>=elo_real[0,:][conf]))/elo_real[0,:][conf].shape[0])"
      ],
      "execution_count": null,
      "outputs": [
        {
          "output_type": "error",
          "ename": "ValueError",
          "evalue": "ignored",
          "traceback": [
            "\u001b[0;31m---------------------------------------------------------------------------\u001b[0m",
            "\u001b[0;31mValueError\u001b[0m                                Traceback (most recent call last)",
            "\u001b[0;32m<ipython-input-36-bbf4de7d6b6a>\u001b[0m in \u001b[0;36m<module>\u001b[0;34m()\u001b[0m\n\u001b[1;32m      4\u001b[0m \u001b[0mpred_conf\u001b[0m \u001b[0;34m=\u001b[0m\u001b[0mmodel_pred_mean\u001b[0m\u001b[0;34m\u001b[0m\u001b[0;34m\u001b[0m\u001b[0m\n\u001b[1;32m      5\u001b[0m \u001b[0;34m\u001b[0m\u001b[0m\n\u001b[0;32m----> 6\u001b[0;31m \u001b[0mprint\u001b[0m\u001b[0;34m(\u001b[0m\u001b[0mnp\u001b[0m\u001b[0;34m.\u001b[0m\u001b[0msum\u001b[0m\u001b[0;34m(\u001b[0m\u001b[0mconf\u001b[0m\u001b[0;34m)\u001b[0m\u001b[0;34m,\u001b[0m \u001b[0msum\u001b[0m\u001b[0;34m(\u001b[0m\u001b[0mabs\u001b[0m\u001b[0;34m(\u001b[0m\u001b[0mreal_conf\u001b[0m \u001b[0;34m-\u001b[0m \u001b[0mpred_conf\u001b[0m\u001b[0;34m)\u001b[0m\u001b[0;34m<\u001b[0m \u001b[0;36m100\u001b[0m\u001b[0;34m)\u001b[0m\u001b[0;34m/\u001b[0m\u001b[0msum\u001b[0m\u001b[0;34m(\u001b[0m\u001b[0mconf\u001b[0m\u001b[0;34m)\u001b[0m\u001b[0;34m)\u001b[0m\u001b[0;34m\u001b[0m\u001b[0;34m\u001b[0m\u001b[0m\n\u001b[0m\u001b[1;32m      7\u001b[0m \u001b[0;31m#interval = np.array([elo_pred_mean[0,:][conf]-elo_uncertainty[conf]/2, elo_pred_mean[0,:][conf]+elo_uncertainty[conf]/2])\u001b[0m\u001b[0;34m\u001b[0m\u001b[0;34m\u001b[0m\u001b[0;34m\u001b[0m\u001b[0m\n\u001b[1;32m      8\u001b[0m \u001b[0;31m#print(np.sum(conf), np.sum((interval[0,:]<=elo_real[0,:][conf]) & (interval[1,:]>=elo_real[0,:][conf]))/elo_real[0,:][conf].shape[0])\u001b[0m\u001b[0;34m\u001b[0m\u001b[0;34m\u001b[0m\u001b[0;34m\u001b[0m\u001b[0m\n",
            "\u001b[0;31mValueError\u001b[0m: operands could not be broadcast together with shapes (2,) (1617,) "
          ]
        }
      ]
    },
    {
      "cell_type": "code",
      "metadata": {
        "colab": {
          "base_uri": "https://localhost:8080/"
        },
        "id": "y2YzNXCqjjVg",
        "outputId": "78ad9a0c-7c5e-4e1c-d71d-408ef8d932b3"
      },
      "source": [
        "elo_real[np.array([conf,conf])]"
      ],
      "execution_count": null,
      "outputs": [
        {
          "output_type": "execute_result",
          "data": {
            "text/plain": [
              "array([1550., 1951., 1694., ..., 1536., 1738., 1343.])"
            ]
          },
          "metadata": {
            "tags": []
          },
          "execution_count": 71
        }
      ]
    },
    {
      "cell_type": "code",
      "metadata": {
        "colab": {
          "base_uri": "https://localhost:8080/"
        },
        "id": "titXDrr1-SE6",
        "outputId": "922c1553-3f4f-42e8-a4c9-872e25783612"
      },
      "source": [
        "elo_pred_mean[0,:]"
      ],
      "execution_count": null,
      "outputs": [
        {
          "output_type": "execute_result",
          "data": {
            "text/plain": [
              "array([1522.7263, 1686.7809, 1582.7368, ..., 1540.8778, 1622.2957,\n",
              "       1550.011 ], dtype=float32)"
            ]
          },
          "metadata": {
            "tags": []
          },
          "execution_count": 35
        }
      ]
    },
    {
      "cell_type": "code",
      "metadata": {
        "colab": {
          "base_uri": "https://localhost:8080/"
        },
        "id": "dh97ppWsoNvQ",
        "outputId": "d1756fd8-190c-4f7c-a406-7d121d5034a0"
      },
      "source": [
        "interval[:, 0, :].transpose()"
      ],
      "execution_count": null,
      "outputs": [
        {
          "output_type": "execute_result",
          "data": {
            "text/plain": [
              "array([[1464.7694, 1744.225 ],\n",
              "       [1624.9011, 1883.9312],\n",
              "       [1598.0999, 1951.0347],\n",
              "       ...,\n",
              "       [1274.3933, 1622.5962],\n",
              "       [1445.071 , 1732.1074],\n",
              "       [1731.252 , 2008.188 ]], dtype=float32)"
            ]
          },
          "metadata": {
            "tags": []
          },
          "execution_count": 180
        }
      ]
    },
    {
      "cell_type": "code",
      "metadata": {
        "id": "SliRfNPyn4Pw",
        "colab": {
          "base_uri": "https://localhost:8080/",
          "height": 212
        },
        "outputId": "7da92fc2-a63d-45db-d570-cc6e9facf13d"
      },
      "source": [
        "for i,e in enumerate(interval[:, 0,:].transpose()):\n",
        "  print(e, elo_real[0][i])\n",
        "  if i>50:\n",
        "    break"
      ],
      "execution_count": null,
      "outputs": [
        {
          "output_type": "error",
          "ename": "IndexError",
          "evalue": "ignored",
          "traceback": [
            "\u001b[0;31m---------------------------------------------------------------------------\u001b[0m",
            "\u001b[0;31mIndexError\u001b[0m                                Traceback (most recent call last)",
            "\u001b[0;32m<ipython-input-37-2e119cc46e7c>\u001b[0m in \u001b[0;36m<module>\u001b[0;34m()\u001b[0m\n\u001b[0;32m----> 1\u001b[0;31m \u001b[0;32mfor\u001b[0m \u001b[0mi\u001b[0m\u001b[0;34m,\u001b[0m\u001b[0me\u001b[0m \u001b[0;32min\u001b[0m \u001b[0menumerate\u001b[0m\u001b[0;34m(\u001b[0m\u001b[0minterval\u001b[0m\u001b[0;34m[\u001b[0m\u001b[0;34m:\u001b[0m\u001b[0;34m,\u001b[0m \u001b[0;36m0\u001b[0m\u001b[0;34m,\u001b[0m\u001b[0;34m:\u001b[0m\u001b[0;34m]\u001b[0m\u001b[0;34m.\u001b[0m\u001b[0mtranspose\u001b[0m\u001b[0;34m(\u001b[0m\u001b[0;34m)\u001b[0m\u001b[0;34m)\u001b[0m\u001b[0;34m:\u001b[0m\u001b[0;34m\u001b[0m\u001b[0;34m\u001b[0m\u001b[0m\n\u001b[0m\u001b[1;32m      2\u001b[0m   \u001b[0mprint\u001b[0m\u001b[0;34m(\u001b[0m\u001b[0me\u001b[0m\u001b[0;34m,\u001b[0m \u001b[0melo_real\u001b[0m\u001b[0;34m[\u001b[0m\u001b[0;36m0\u001b[0m\u001b[0;34m]\u001b[0m\u001b[0;34m[\u001b[0m\u001b[0mi\u001b[0m\u001b[0;34m]\u001b[0m\u001b[0;34m)\u001b[0m\u001b[0;34m\u001b[0m\u001b[0;34m\u001b[0m\u001b[0m\n\u001b[1;32m      3\u001b[0m   \u001b[0;32mif\u001b[0m \u001b[0mi\u001b[0m\u001b[0;34m>\u001b[0m\u001b[0;36m50\u001b[0m\u001b[0;34m:\u001b[0m\u001b[0;34m\u001b[0m\u001b[0;34m\u001b[0m\u001b[0m\n\u001b[1;32m      4\u001b[0m     \u001b[0;32mbreak\u001b[0m\u001b[0;34m\u001b[0m\u001b[0;34m\u001b[0m\u001b[0m\n",
            "\u001b[0;31mIndexError\u001b[0m: too many indices for array: array is 2-dimensional, but 3 were indexed"
          ]
        }
      ]
    },
    {
      "cell_type": "code",
      "metadata": {
        "colab": {
          "base_uri": "https://localhost:8080/"
        },
        "id": "6QQW1_J7Nh1E",
        "outputId": "5de2bf4d-d847-432b-8a45-5b1d3de4af87"
      },
      "source": [
        "real = elo_real[0, :]<df[\"AvgElo\"].mean()\n",
        "pred = elo_pred_mean[0, :]<df[\"AvgElo\"].mean()\n",
        "\n",
        "conf = elo_uncertainty<350\n",
        "print(sum(conf))\n",
        "real_conf = real[conf]\n",
        "pred_conf = pred[conf]\n",
        "Confusion = [sum((real_conf) & (pred_conf)), sum((real_conf) & (~pred_conf)), sum((~real_conf) & (pred_conf)), sum((~real_conf) & (~pred_conf))] \n",
        "print(Confusion, (Confusion[0]+Confusion[3])/sum(Confusion)) "
      ],
      "execution_count": null,
      "outputs": [
        {
          "output_type": "stream",
          "text": [
            "3023\n",
            "[888, 548, 433, 1154] 0.6754879259014225\n"
          ],
          "name": "stdout"
        }
      ]
    },
    {
      "cell_type": "code",
      "metadata": {
        "id": "caO61kP9RcJj"
      },
      "source": [
        "models = models[:1]"
      ],
      "execution_count": null,
      "outputs": []
    },
    {
      "cell_type": "code",
      "metadata": {
        "id": "hf-RsCpMpBzb"
      },
      "source": [
        "45:05-46:00"
      ],
      "execution_count": null,
      "outputs": []
    }
  ]
}